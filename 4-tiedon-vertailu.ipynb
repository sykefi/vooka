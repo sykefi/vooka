{
 "cells": [
  {
   "cell_type": "markdown",
   "id": "685fcef7",
   "metadata": {},
   "source": [
    "# 4. Tiedon vertailu"
   ]
  },
  {
   "cell_type": "markdown",
   "id": "c9e64387",
   "metadata": {},
   "source": [
    "## 4.1 Geometris-topologinen vertailu"
   ]
  },
  {
   "cell_type": "markdown",
   "id": "1d739686",
   "metadata": {},
   "source": [
    "### 4.1.1 Kiinteistöpalstat ja kaavaindeksit"
   ]
  },
  {
   "cell_type": "markdown",
   "id": "d7220959",
   "metadata": {},
   "source": [
    "<span style=\"color:red\">**Tämä vaihe ei ole pakollinen!**</span>\n",
    "\n",
    "MML:n kiinteistöpalstojen ja kaavaindeksien vertailussa tuodaan esiin, miten hyvin kaavaindeksien rajat yhtyvät kiinteistörajoihin. Topologinen yhtenevyys ilmaistaan prosenttiarvona (iou_1), joka lasketaan yksittäisen kiinteistöpalstan ja kaavaindeksin risteyskohdan (intersection) pinta-alan suhteena kiinteistöpalstan pinta-alaan.\n",
    "\n",
    "Laskenta palauttaa kaikki ne palstageometriat, jotka sivuavat vähintään yhtä kaavaindeksiä."
   ]
  },
  {
   "cell_type": "code",
   "execution_count": null,
   "id": "d2cd3456",
   "metadata": {},
   "outputs": [],
   "source": [
    "# Käytettävien Python moduulien ja kehitettyjen funktioiden sisäänluku\n",
    "import geopandas as gpd\n",
    "from lib.palsta_kaavaindeksi_vertailu import calculateIntersectionPercentage\n",
    "from lib.accessory_functions import readPickleData, saveGPKG"
   ]
  },
  {
   "cell_type": "code",
   "execution_count": null,
   "id": "7c4e3ec2",
   "metadata": {},
   "outputs": [],
   "source": [
    "# Vertailuun tuleva kaava-aineisto ja MML:n kiinteistöpalsta-aineisto\n",
    "palstat = readPickleData(inputfp=r\"<insert filepath here>.pkl\")\n",
    "kaavadata = gpd.read_file(r\"<insert filepath here>.gpkg\", layer=\"<insert layer name here>\")\n",
    "\n",
    "# Ajo on suositeltavaa toteuttaa kunta kerrallaan\n",
    "kunta = kaavadata.loc[kaavadata['kuntanimi'] == '<insert kuntanimi here>']"
   ]
  },
  {
   "cell_type": "code",
   "execution_count": null,
   "id": "35c98002",
   "metadata": {},
   "outputs": [],
   "source": [
    "# Laskenta\n",
    "palstat_calc = calculateIntersectionPercentage(kaava=kunta,\n",
    "                                               kaava_nro_column=\"<insert column name here>\", # kaavaindeksin yksilöivä tieto, esim. kaavatunnus\n",
    "                                               palstat=palstat)\n",
    "\n",
    "# Tallennus tarvittaessa\n",
    "#saveGPKG(palstat_calc, outputfp=r\"<insert filepath here>.gpkg\", layer_name=\"<insert layer name here>\")"
   ]
  },
  {
   "cell_type": "markdown",
   "id": "7e90100b",
   "metadata": {},
   "source": [
    "### 4.1.2 Dimensionally Extended 9-Intersection Model (DE-9IM)"
   ]
  },
  {
   "cell_type": "markdown",
   "id": "7daca9f7",
   "metadata": {},
   "source": [
    "KTJ:n ja kuntien kaava-aineistojen vertailu perustuu ETL-työkalussa [OGC:n DE-9IM -standardin mukaiseen malliin](https://postgis.net/workshops/postgis-intro/de9im.html), jonka avulla tunnistetaan yhtenevät, päällekkäiset sekä toisistaan eriävät geometriat. Tämän lisäksi ETL-muunnin vertailee kaavarajojen muotoa ja pinta-aloja automaattisesti.\n",
    "\n",
    "DE-9IM-mallissa kahden geometrian välinen relaatio ilmaistaan 9-merkkisellä mallilla. Malli voi olla esimerkiksi muotoa:\n",
    "\n",
    "| DE-9IM | Sisusta (interior) | Raja (boundary) | Ulkoraja (exterior) |\n",
    "| :--- | :--- | :--- | :--- |\n",
    "| Sisusta (interior) | 2 | 1 | 2 |\n",
    "| Raja (boundary) | 1 | 0 | 1 |\n",
    "| Ulkoraja (exterior) | 2 | 1 | 2 |\n",
    "\n",
    "\n",
    "Mallia luetaan seuraavasti:\n",
    "\n",
    "- 2: Geometrioiden risteyskohta on alue (Polygon) eli kaksiulotteinen geometria\n",
    "- 1: Geometrioiden risteyskohta on viiva (LineString) eli yksiulotteinen geometria\n",
    "- 0: Geometrioiden risteyskohta on piste (Point) eli nollaulotteinen geometria\n",
    "\n",
    "Muita DE-9IM-mallissa esiintyviä arvoja voivat olla:\n",
    "\n",
    "- F: False - risteyskohtaa ei esiinny\n",
    "- T: True - mikä tahansa ei-false arvo on sallittu (0,1 tai 2)\n",
    "- *: kaikki sallitaan\n",
    "\n",
    "**Jos kahden geometrian välinen relaatiomalli vastaa muotoa \"T*F**FFF*\", geometriat ovat täydellisesti samat!** Tämä on hyvin harvinaista, sillä DE-9IM-malli ei salli pienintäkään murto-osan eroavaisuutta. <span style=\"color:red\">Tämän takia ETL-muunnin tulkitsee kaavat geometris-topologisesti yhteneviksi, jos niiden topologinen tarkkuus on vähintään 98 %</span>\n",
    "\n",
    "Geometris-topologinen tarkkuus ilmaistaan ETL-muuntimessa iou-arvolla. Lyhenne tulee sanoista *intersection of union*, geometrioiden yhtymäkohdan risteyskohta. Mikäli kaksi kaavaa ovat geometris-topologisesti tismalleen samanlaiset, niiden risteyskohdan sekä yhtymäkohdan pinta-alat ovat tismalleen samat. Näiden suhde on täten 100 %. Mikäli kaavoissa on geometris-topologista eroavaisuutta, niiden yhtymäkohta on erisuuri kuin risteyskohta. Tällöin yhtymäkohdan ja risteyskohdan pinta-alojen suhde eroaa 100 %:sta\n",
    "\n",
    "Geometris-topologista eheyttä ilmaistaan ETL-työkalussa kaiken kaikkiaan seuraavin kentin:\n",
    "\n",
    "| Ominaisuustieto | Selite |\n",
    "| :--- | :--- |\n",
    "| area_ha | Kaavan pinta-ala hehtaareina. |\n",
    "| refe_area_ha | Vastaavan kaavan pinta-ala hehtaareina. |\n",
    "| de9im_pattern | DE-9IM-mallin mukainen relaatio 9-merkkisellä mallilla. |\n",
    "| topo_equal | Boolean-tieto. Onko vertailtavat kaavat topologisesti yhtenevät vai ei. <span style=\"color:red\">Kyllä, jos iou-arvo on vähintään 98.</span> |\n",
    "| iou | Intersection of union -prosentti. Ilmaistaan vertailtavien kaavojen yhtymä- ja risteyskohdan suhteena. |\n",
    "| refe_kaavatunnus | Vastaavan kaavan kaavatunnus. |\n",
    "| a_delta_% | Vertailtavien kaavojen pinta-alojen suhteellinen virheprosentti. |"
   ]
  },
  {
   "cell_type": "markdown",
   "id": "f7bf50d9",
   "metadata": {},
   "source": [
    "### 4.1.3 KTJ:n ja kunta-aineistojen kaavat (DE-9IM)"
   ]
  },
  {
   "cell_type": "markdown",
   "id": "ba1ea8ee",
   "metadata": {},
   "source": [
    "Kuntien ja KTJ:n kaava-aineistojen välillä ei ole yksilöivää tunnistetta. Täten ominaisuustietojen pohjalta ei voida tietää, mikä kunnan kaava vastaa KTJ-kaavaa ja päin vastoin. ETL-työkalussa ongelma on ratkaistu siten, että kaavan vastine toisessa datasetissa on se kaava, jonka iou-prosentti on suurin.\n",
    "\n",
    "Geometris-topologinen vertailu on mahdollista toteuttaa ETL-työkalulla joko kunta- tai KTJ-aineistopohjaisesti. **On kuitenkin suositeltavaa, että KTJ-aineistoa käytetään vertailun pohjana, sillä aineisto on lähtökohtaisesti eheämpää!**\n",
    "\n",
    "<span style=\"color:red\"><ins>**TÄRKEÄÄ TIETOA KAAVOISTA JA KAAVAINDEKSEISTÄ**</ins></span>\n",
    "\n",
    "KTJ:n kunta-aineistot on aina rivitetty indeksitasolle, joten ETL-työkalu osaa tehdä KTJ:n kaavoille kaavatunnukseen pohjautuvan dissolven (=kaavaindeksien yhdistäminen kaavaksi) automaattisesti. Näin ei kuitenkaan aina ole kuntien kaava-aineistoissa, vaan yksi kunta-aineiston rivi voi edustaa kaavaa kokonaisuudessaan. Itse vertailu halutaan aina toteuttaa kaavatasolla. <span style=\"color:red\">Jos kunta-aineisto on indeksitasolla, sille tulee tehdä dissolve kaavatunnukseen tai muuhun kaavan yksilöivään tietoon pohjautuen!</span>\n",
    "\n",
    "Näissä tilanteissa KTJ-pohjaisessa vertailussa vertailufuntiolle annetaan valinnaiset parametrit:\n",
    "\n",
    "- dissolve_refe=True\n",
    "- dissolve_column=\"kaavan yksilöivän kentän nimi\"\n",
    "\n",
    "Kuntapohjaisen vertailun vastaavat parametrit ovat:\n",
    "\n",
    "- dissolve_kunta=True\n",
    "- dissolve_column=\"kaavan yksilöivän kentän nimi\""
   ]
  },
  {
   "cell_type": "markdown",
   "id": "64fdfa20",
   "metadata": {},
   "source": [
    "## 4.2 Ominaisuustietojen vertailu"
   ]
  },
  {
   "cell_type": "markdown",
   "id": "e8d9c87a",
   "metadata": {},
   "source": [
    "Siinä missä geometris-topologinen vertailu on mahdollista tehdä myös kunta-aineistoon pohjautuen, **ominaisuustietojen vertailu on toteutettu VOOKA-pilotissa vain KTJ-pohjaisesti**. KTJ- ja kunta-aineiston ominaisuustietojen yhdenmukaisuutta ilmaistaan ETL-työkalussa kaiken kaikkiaan seuraavin kentin:\n",
    "\n",
    "| Ominaisuustieto | Selite |\n",
    "| :--- | :--- |\n",
    "| kl_equal | Boolean-tieto. Onko KTJ-aineiston kaavalaji-tieto sama kuin kunta-aineistossa. |\n",
    "| hyv_equal | Kertoo, onko KTJ- ja kunta-aineiston hyväksymispäivämäärä sama. |\n",
    "| voim_equal | Kertoo, onko KTJ- ja kunta-aineiston voimaantulopäivämäärä sama. |\n",
    "\n",
    "Ensimmäinen ominaisuustietokenttä “kl_equal” kertoo boolean-tietona onko vertailtavien aineistojen kaavalajit samat. Toinen ja kolmas ominaisuustietokenttä “hyv_equal” sekä “voim_equal” ilmaisevat hyväksymis- ja voimaantulopäivämäärien yhteneväisyyden sekä niihin liittyvät mahdolliset puutteet. Kentissä voi esiintyä:\n",
    "\n",
    "- “Hyvpvm/voimpvm puuttuu molemmista”\n",
    "- “Hyvpvm/voimpvm puuttuu KTJ”\n",
    "- “Hyvpvm/voimpvm puuttuu kunta”\n",
    "- 1 - Tarkasteltavat päivämäärät ovat samat\n",
    "- 0 - Tarkasteltavat päivämäärät eroavat toisistaan\n",
    "\n",
    "Vahvistamispäivämääriä ei ole mukana vertailussa, sillä ne puuttuvat KTJ-aineistosta kokonaan."
   ]
  },
  {
   "cell_type": "markdown",
   "id": "9279c494",
   "metadata": {},
   "source": [
    "## 4.3 Toteutus"
   ]
  },
  {
   "cell_type": "markdown",
   "id": "ed164279",
   "metadata": {},
   "source": [
    "ETL-työkalussa geometris-topologinen vertailu sekä ominaisuustietojen rinnastus on rakennettu samaan ajoon."
   ]
  },
  {
   "cell_type": "code",
   "execution_count": null,
   "id": "0a94a7b8",
   "metadata": {},
   "outputs": [],
   "source": [
    "# Kehitettyjen funktioiden sisäänluku\n",
    "from lib.kunta_ktj_kaavavertailu import compareKuntadataToKTJ\n",
    "from lib.compare_ktj_to_kunta_main import compareKTJindicesToKunta\n",
    "from lib.accessory_functions import setupMasterGDF, appendDataToMaster, saveGPKG"
   ]
  },
  {
   "cell_type": "code",
   "execution_count": null,
   "id": "96197e7e",
   "metadata": {},
   "outputs": [],
   "source": [
    "import geopandas as gpd\n",
    "\n",
    "# Vertailtavat kaava-aineistot\n",
    "# Vertailtavat kaava-aineistot\n",
    "kunta_data = gpd.read_file(r\"<insert filepath here>.gpkg\", layer=\"<insert layer name here>\")\n",
    "ktj_data = gpd.read_file(r\"<insert filepath here>.gpkg\", layer=\"<insert layer name here>\")\n",
    "                         \n",
    "                         \n",
    "\"\"\"\n",
    "# Kuntapohjainen esimerkki, tulosten mukana ei tule ominaisuustietovertailua\n",
    "tulokset = compareKuntadataToKTJ(kunta_data=kunta_data,\n",
    "                                 ktj_data=ktj_data,\n",
    "                                 kuntanimi='Sulkava',\n",
    "                                 kaavalajit=['31', '39'],\n",
    "                                 dissolve_kunta=True,\n",
    "                                 dissolve_column='kaavatunnus')\n",
    "\"\"\"\n",
    "\n",
    "# Vertailu, kunta kerrallaan\n",
    "# Lue kunta_ktj_kaavavertailu.py -tiedostosta funktion docstring, jotta ymmärrät parametreja paremmin!\n",
    "# Lisää \"dissolve_refe\", ja \"dissolve_column\" parametrit tarvittaessa\n",
    "results = compareKTJindicesToKunta(base_kaavadata=ktj_data,\n",
    "                                   refe_kaavadata=kunta_data,\n",
    "                                   kuntanimi='<insert kuntanimi here>',\n",
    "                                   kaavalajit=[\"<list kaavalaji numbers here>\"]) # Asemakaavoilla esim. ['31', '39'], rantakaavoilla ['33'] jne.\n",
    "                                   #dissolve_refe=True,\n",
    "                                   #dissolve_kunta=True,\n",
    "                                   #dissolve_column='kaavatunnus') # Asemakaavoilla esim. ['31', '39'], rantakaavoilla ['33'] jne.\n",
    "\n",
    "\n",
    "# Aja vain kerran ennen ensimmäistä appendia! \n",
    "master = setupMasterGDF(data=results, geom_column='geometry')\n",
    "\n",
    "\n",
    "\n",
    "try:\n",
    "    master = appendDataToMaster(master_data=master, append_data=results)\n",
    "except SystemExit:\n",
    "    results = results[list(master.columns)]\n",
    "    master = appendDataToMaster(master_data=master, append_data=results)\n",
    "\n",
    "master = results\n",
    "\n",
    "# Tallennus\n",
    "saveGPKG(master, outputfp=r\"<insert filepath here>\", layer_name=\"<insert layer name here>\")"
   ]
  }
 ],
 "metadata": {
  "kernelspec": {
   "display_name": "Python 3 (ipykernel)",
   "language": "python",
   "name": "python3"
  },
  "language_info": {
   "codemirror_mode": {
    "name": "ipython",
    "version": 3
   },
   "file_extension": ".py",
   "mimetype": "text/x-python",
   "name": "python",
   "nbconvert_exporter": "python",
   "pygments_lexer": "ipython3",
   "version": "3.7.11"
  }
 },
 "nbformat": 4,
 "nbformat_minor": 5
}
