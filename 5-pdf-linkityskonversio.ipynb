{
 "cells": [
  {
   "cell_type": "markdown",
   "id": "4a1efcd0",
   "metadata": {},
   "source": [
    "# 5. PDF-linkityskonversio"
   ]
  },
  {
   "cell_type": "markdown",
   "id": "3814c413",
   "metadata": {},
   "source": [
    "## 5.1 PDF-linkittäjä"
   ]
  },
  {
   "cell_type": "markdown",
   "id": "a957a5b3",
   "metadata": {},
   "source": [
    "PDF-liitteiden linkittäminen yhtenäisessä muodossa kaavojen paikkatietoihin on mahdollista, jos tiedetään, mihin kaavaindeksitunnukseen kukin liite kytkeytyy. VOOKA-pilottiprojektissa tämä tieto puuttui lähes poikkeuksetta kaavojen paikkatietoaineistoista. Tästä syystä kaavaliitteiden ja niitä vastaavien kaavaindeksien tunnistustyö toteutettiin manuaalisena työnä.\n",
    "\n",
    "Työssä PDF-linkitystä varten koostettiin liitostaulu, jossa jokaisella rivillä on tieto kaavan indeksitunnuksesta (KTJ, kunnan aineisto tai molemmat) sekä kaavan dokumenttityyppi (esim. osallistamis- ja arviointisuunnitelma). Kaiken kaikkiaan liitostaulun skeema oli seuraavanlainen:\n",
    "\n",
    "| Ominaisuustieto | Selite |\n",
    "| :--- | :--- |\n",
    "| Kunta | Kunnan virallinen kuntakoodi |\n",
    "| Kunnan indeksitunnus | Kunnan paikkatietomuotoisen kaava-aineiston kaavaindeksitunnus |\n",
    "| KTJ-indeksitunnus | KTJ-aineiston kaavaindeksitunnus (\"kaavatunnus_1\") |\n",
    "| Original filename | Kunnalta saadun kaavaliitteen alkuperäinen tiedostonimi |\n",
    "| Kaavalaji | Kaavalajikoodisto ylätasolla |\n",
    "| Dokumentin tyyppi | Dokumenttityyppikoodisto, sanallinen |\n",
    "| Dokumentin tyyppi2 | Dokumenttityyppikoodisto, numeerinen |\n",
    "| Tila | Koodisto, joka kertoo, onko kaavaliite validi |\n",
    "| Voimassa oleva | Onko liite voimassa vai ei (boolean) |\n",
    "| Multipage | Onko liitteessä useampi kuin yksi sivu (boolean) |\n",
    "\n",
    "Kaavalaji-koodisto:\n",
    "- ak\n",
    "- rak\n",
    "- yk\n",
    "\n",
    "Dokumentin tyyppi -koodisto (sanallinen ja numeerinen):\n",
    "- 1 = kaavakartta (sis. merkinnät ja määräykset)\n",
    "- 2 = kaavakartta (ei sis. merkinnät ja määräykset)\n",
    "- 3 = merkinnät ja määräykset (erillisenä)\n",
    "- 4 = kaavaselostus\n",
    "- 5 = osallistamis- ja arviointisuunnitelma\n",
    "- 6 = muu\n",
    "\n",
    "Tila-koodisto:\n",
    "- ok\n",
    "- ei ok\n",
    "\n",
    "<span style=\"color:red\">Kesken, täydennetään!</span>"
   ]
  },
  {
   "cell_type": "markdown",
   "id": "39bc64a8",
   "metadata": {},
   "source": [
    "## 5.2 PDF/A-konversio"
   ]
  },
  {
   "cell_type": "markdown",
   "id": "02e904b7",
   "metadata": {},
   "source": [
    "ETL-työkalu konvertoi kunnilta saadut liite-PDF-tiedostot automatisoidusti Ghostscript-muuntimella PDF/A-arkistoformaattiin. Muunnin perustuu soveltuvin osin GitHubista avoimesti saatavilla olevaan [Python-Ghostscript-konvertteriin](https://github.com/Rajasekaran85/Python-PDF-A-Conversion). VOOKA-projektin tarpeisiin muokattu muunnin löytyy omana versionaan projektin [GitHub-sivuilta](https://github.com/ubigu/vooka).\n",
    "\n",
    "Jos saatu PDF-formaatti on toteutettu versiolla, jota ei saada PDF/A-muotoon, se tallennetaan sellaisenaan. Mikäli jotkin kunnan PDF-tiedostot eivät käänny kunnan aineistosta johtuvista teknisistä syistä PDF/A-muotoon, tallennetaan nämä normaalissa PDF-muodossa.\n",
    "\n",
    "ETL-työkalun PDF/A-konvertteri kysyy käyttäjältä tiedostopolkuja input- ja output-kansioihin. Muuntaja kääntää kaikki input-kansiossa olevat PDF-tiedostot PDF/A-formaattiin ja tallentaa ne output-kansioon."
   ]
  },
  {
   "cell_type": "code",
   "execution_count": null,
   "id": "e4cf2fbd",
   "metadata": {},
   "outputs": [],
   "source": [
    "from lib.pdf_a_conv import writePdfA\n",
    "writePdfA()"
   ]
  }
 ],
 "metadata": {
  "kernelspec": {
   "display_name": "Python 3 (ipykernel)",
   "language": "python",
   "name": "python3"
  },
  "language_info": {
   "codemirror_mode": {
    "name": "ipython",
    "version": 3
   },
   "file_extension": ".py",
   "mimetype": "text/x-python",
   "name": "python",
   "nbconvert_exporter": "python",
   "pygments_lexer": "ipython3",
   "version": "3.7.11"
  }
 },
 "nbformat": 4,
 "nbformat_minor": 5
}
