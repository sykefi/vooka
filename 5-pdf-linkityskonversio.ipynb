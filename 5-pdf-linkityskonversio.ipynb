{
 "cells": [
  {
   "cell_type": "markdown",
   "id": "4a1efcd0",
   "metadata": {},
   "source": [
    "# 5. PDF-linkityskonversio"
   ]
  },
  {
   "cell_type": "markdown",
   "id": "3814c413",
   "metadata": {},
   "source": [
    "## 5.1 PDF-linkittäjä"
   ]
  },
  {
   "cell_type": "markdown",
   "id": "a957a5b3",
   "metadata": {},
   "source": [
    "<span style=\"color:red\">Täydennetään</span>"
   ]
  },
  {
   "cell_type": "markdown",
   "id": "39bc64a8",
   "metadata": {},
   "source": [
    "## 5.2 PDF/A-konversio"
   ]
  },
  {
   "cell_type": "markdown",
   "id": "02e904b7",
   "metadata": {},
   "source": [
    "ETL-työkalu konvertoi kunnilta saadut liite-PDF-tiedostot automatisoidusti Ghostscript-muuntimella PDF/A-arkistoformaattiin. Muunnin perustuu soveltuvin osin GitHubista avoimesti saatavilla olevaan [Python-Ghostscript-konvertteriin](https://github.com/Rajasekaran85/Python-PDF-A-Conversion). VOOKA-projektin tarpeisiin muokattu muunnin löytyy omana versionaan projektin [GitHub-sivuilta](https://github.com/ubigu/vooka).\n",
    "\n",
    "Jos saatu PDF-formaatti on toteutettu versiolla, jota ei saada PDF/A-muotoon, se tallennetaan sellaisenaan. Mikäli jotkin kunnan PDF-tiedostot eivät käänny kunnan aineistosta johtuvista teknisistä syistä PDF/A-muotoon, tallennetaan nämä normaalissa PDF-muodossa.\n",
    "\n",
    "ETL-työkalun PDF/A-konvertteri kysyy käyttäjältä tiedostopolkuja input- ja output-kansioihin. Muuntaja kääntää kaikki input-kansiossa olevat PDF-tiedostot PDF/A-formaattiin ja tallentaa ne output-kansioon."
   ]
  },
  {
   "cell_type": "code",
   "execution_count": null,
   "id": "e4cf2fbd",
   "metadata": {},
   "outputs": [],
   "source": [
    "from lib.pdf_a_conv import writePdfA\n",
    "writePdfA()"
   ]
  }
 ],
 "metadata": {
  "kernelspec": {
   "display_name": "Python 3 (ipykernel)",
   "language": "python",
   "name": "python3"
  },
  "language_info": {
   "codemirror_mode": {
    "name": "ipython",
    "version": 3
   },
   "file_extension": ".py",
   "mimetype": "text/x-python",
   "name": "python",
   "nbconvert_exporter": "python",
   "pygments_lexer": "ipython3",
   "version": "3.7.11"
  }
 },
 "nbformat": 4,
 "nbformat_minor": 5
}
