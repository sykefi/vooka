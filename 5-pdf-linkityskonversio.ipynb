{
 "cells": [
  {
   "cell_type": "markdown",
   "id": "4a1efcd0",
   "metadata": {},
   "source": [
    "# 5. PDF-linkityskonversio"
   ]
  },
  {
   "cell_type": "markdown",
   "id": "3814c413",
   "metadata": {},
   "source": [
    "## 5.1 PDF-linkittäjä"
   ]
  },
  {
   "cell_type": "markdown",
   "id": "56a150e7",
   "metadata": {},
   "source": [
    "### 5.1.1 Linkitystaulu"
   ]
  },
  {
   "cell_type": "markdown",
   "id": "a957a5b3",
   "metadata": {},
   "source": [
    "PDF-liitteiden linkittäminen yhtenäisessä muodossa kaavojen paikkatietoihin on mahdollista, jos tiedetään, mihin kaavaindeksitunnukseen kukin liite kytkeytyy. VOOKA-pilottiprojektissa tämä tieto puuttui lähes poikkeuksetta kaavojen paikkatietoaineistoista. Tästä syystä kaavaliitteiden ja niitä vastaavien kaavaindeksien tunnistustyö toteutettiin manuaalisena työnä.\n",
    "\n",
    "Työssä PDF-linkitystä varten koostettiin liitostaulu, jossa jokaisella rivillä on tieto kaavan indeksitunnuksesta (KTJ, kunnan aineisto tai molemmat) sekä kaavan dokumenttityypistä (esim. osallistamis- ja arviointisuunnitelma). Kaiken kaikkiaan liitostaulun skeema oli seuraavanlainen:\n",
    "\n",
    "| Ominaisuustieto | Selite |\n",
    "| :--- | :--- |\n",
    "| Kunta | Kunnan virallinen kuntakoodi |\n",
    "| Kunnan indeksitunnus | Kunnan paikkatietomuotoisen kaava-aineiston kaavaindeksitunnus |\n",
    "| KTJ-indeksitunnus | KTJ-aineiston kaavaindeksitunnus (\"kaavatunnus_1\") |\n",
    "| Original filename | Kunnalta saadun kaavaliitteen alkuperäinen tiedostonimi |\n",
    "| New filename | Sarake uudelle tiedostonimelle|\n",
    "| Match equivalency % | Automaattisen linkityksen vastaavuusprosentti |\n",
    "| Kaavalaji | Kaavalajikoodisto ylätasolla |\n",
    "| Dokumentin tyyppi | Dokumenttityyppikoodisto, numeerinen |\n",
    "| Huomioita | Tietoja liitteestä sanallisessa muodossa |\n",
    "| Tila | Koodisto, joka kertoo, onko kaavaliite validi |\n",
    "| Voimassa oleva | Onko liite voimassa vai ei (boolean) |\n",
    "| Multipage | Onko liitteessä useampi kuin yksi sivu (boolean) |\n",
    "\n",
    "Kaavalaji-koodisto:\n",
    "- ak\n",
    "- rak\n",
    "- yk\n",
    "\n",
    "Dokumentin tyyppi -koodisto (sanallinen ja numeerinen):\n",
    "- 1 = kaavakartta (sis. merkinnät ja määräykset)\n",
    "- 2 = kaavakartta (ei sis. merkinnät ja määräykset)\n",
    "- 3 = merkinnät ja määräykset (erillisenä)\n",
    "- 4 = kaavaselostus\n",
    "- 5 = osallistamis- ja arviointisuunnitelma\n",
    "- 6 = muu\n",
    "\n",
    "Tila-koodisto:\n",
    "- ok\n",
    "- ei ok"
   ]
  },
  {
   "cell_type": "markdown",
   "id": "0f5b7bd1",
   "metadata": {},
   "source": [
    "### 5.1.2 Kaavaliitteiden hakemistorakenne"
   ]
  },
  {
   "cell_type": "markdown",
   "id": "00fb5419",
   "metadata": {},
   "source": [
    "Kunnilta saadut kaavaliitteet tallennettiin vakioituun hakemistorakenteeseen resurssienhallintaan. Hakemistorakenteen runko oli muotoa:\n",
    "\n",
    "```bash\n",
    "documents   \n",
    "│\n",
    "└───kuntakoodi\n",
    "│   │   \n",
    "│   │\n",
    "│   └───ak\n",
    "│   │   liite.pdf\n",
    "│   │   liite2.pdf\n",
    "│   │   ...\n",
    "│   └───rak\n",
    "│   │   liite.pdf\n",
    "│   │   liite2.pdf\n",
    "│   │   ...\n",
    "│   └───yk\n",
    "│       liite.pdf\n",
    "│       liite2.pdf\n",
    "│       ...\n",
    "...\n",
    "```\n",
    "\n",
    "**PDF-linkityskonversion ETL-funktiot on rakennettu kyseisen hakemistorakenteen varaan!**"
   ]
  },
  {
   "cell_type": "markdown",
   "id": "f8ce199b",
   "metadata": {},
   "source": [
    "### 5.1.3 Kaava-asiakirjojen lajittelu hakemistorakenteen mukaan kansioihin"
   ]
  },
  {
   "cell_type": "markdown",
   "id": "9023e91c",
   "metadata": {},
   "source": [
    "Tämä koodi lajittelee PDF-asiakirjat hakemistorakenteen mukais. Koodi olettaa, että asiakirjat on lajiteltu kunnan nimellä olevaan kansioon kaavalajeittain. Mikäli kansio ei noudata tätä rakennetta, tulos on virheellinen.\n",
    "\n",
    "Tarkoituksena on välttää kansioiden alikansioiden avaamisesta syntyvää lisätyötä sekä automaattisesti poimia vain PDF-muotoiset asiakirjat."
   ]
  },
  {
   "cell_type": "code",
   "execution_count": 9,
   "id": "8f5668be",
   "metadata": {},
   "outputs": [
    {
     "name": "stdout",
     "output_type": "stream",
     "text": [
      "Kansiolajittelu onnistui\n"
     ]
    }
   ],
   "source": [
    "valittu_kansio = r'<insert filepath here>'\n",
    "\n",
    "\n",
    "%run -i lib/sort_files_by_kaavalaji_main.py"
   ]
  },
  {
   "cell_type": "markdown",
   "id": "1c5f83b4",
   "metadata": {},
   "source": [
    "### 5.1.3 Kaavaindeksien kansiolajittelu"
   ]
  },
  {
   "cell_type": "code",
   "execution_count": 2,
   "id": "6b5bff86",
   "metadata": {},
   "outputs": [
    {
     "name": "stdout",
     "output_type": "stream",
     "text": [
      "Kansiolajittelu onnistui\n"
     ]
    }
   ],
   "source": [
    "valittu_kansio = r'<insert filepath here>'\n",
    "\n",
    "\n",
    "%run -i lib/sort_index_files_by_kaavalaji_main.py"
   ]
  },
  {
   "cell_type": "markdown",
   "id": "085f2dfd",
   "metadata": {},
   "source": [
    "### 5.1.4 Multipage"
   ]
  },
  {
   "cell_type": "markdown",
   "id": "3778d6b5",
   "metadata": {},
   "source": [
    "<span style=\"color:red\">**Tämä vaihe ei ole pakollinen!**</span>\n",
    "\n",
    "ETL-työkalun avulla on mahdollista kertoa liitostaululle, mikäli kaavaliitteessä on enemmäni kuin yksi sivu."
   ]
  },
  {
   "cell_type": "code",
   "execution_count": null,
   "id": "d49e5c9c",
   "metadata": {},
   "outputs": [],
   "source": [
    "# Käytettävien Python moduulien ja kehitettyjen funktioiden sisäänluku\n",
    "import pandas as pd\n",
    "from lib.pdf_parser import declareMultipage"
   ]
  },
  {
   "cell_type": "code",
   "execution_count": null,
   "id": "2520c4c7",
   "metadata": {},
   "outputs": [],
   "source": [
    "# Liitostaulu\n",
    "data = pd.read_csv(r\"<insert filepath here>.csv\", delimiter=',',  encoding='utf-8-sig') # vaihda delimiter muotoon \";\" tarvittaessa\n",
    "\n",
    "# Laskenta\n",
    "multipage = declareMultipage(data=data,\n",
    "                             master_dir=r\"<insert filepath here>\", # documents, koko hakemistorakenne\n",
    "                             kuntakoodi=\"<insert kuntakoodi here>\",\n",
    "                             kaavalaji=\"ak\") # hakemistorakenteen kaavalaji-kansionimi (\"ak\", \"rak\" tai \"yk\")"
   ]
  },
  {
   "cell_type": "markdown",
   "id": "bdaf26a8",
   "metadata": {},
   "source": [
    "### 5.1.5 Kaava-asiakirjojen tiedostonimien linkitys kaavaindeksiaineistoon"
   ]
  },
  {
   "cell_type": "markdown",
   "id": "93c02ff0",
   "metadata": {},
   "source": [
    "<span style=\"color:red\">**Tämä vaihe ei ole pakollinen! Vaatii kelvollisen paikkatietoaineiston indeksitietoineen sekä sen, että asiakirjat on nimetty sisältäen kaavaindeksin.**</span>"
   ]
  },
  {
   "cell_type": "markdown",
   "id": "34b4412d",
   "metadata": {},
   "source": [
    "Mikäli kaava-asiakirjojen nimet sisältävät kunnan kaavaindeksin ja kunnasta on toimitettu paikkatietoaineisto, joka sisältää kaavaindeksin, on mahdollista linkittää kaava-asiakirjat indeksi aineistoon automaattisesti.\n",
    "\n",
    "HUOM!\n",
    "Automatisaatio perustuu sumeaan logiikkaan tarkoittaen sitä, että automatisaation linkittämät indeksit eivät välttämättä vastaa toisiaan täydellisesti.\n",
    "\n",
    "Automatisaatio tuottaa CSV-taulukkoon arvon, joka ilmoittaa kuinka hyvin tiedostonimi vastasi indeksiä. Jos arvo on alle 80, niin tilanne tulee arvioida tilannekohtaisesti. Mitä matalampi arvo on, sitä todennäköisemmin automatisaatio on antanut väärän tai valheellisen linkitystuloksen.\n",
    "\n",
    "HUOM!\n",
    "\n",
    "Koodi tulkitsee dokumentin tyypin tiedostonimestä. Koodi antaa oletuksena dokumentin tyypiksi kaavakartan määräyksineen (arvo 1). Mikäli nimessä mainitaan merkintä tai määräys koodi antaa dokumentin tyypiksi kaavamääräyksen (3).\n",
    "NÄMÄ TULEE AINA TARKISTAA MANUAALISESTI!\n",
    "\n",
    "(Usein kaava-asiakirjojen tiedostonimessä voi esiintyä määräykseen viittaava sana, mutta todellisuudessa asiakirja sisältää sekä kartan että määräykset: esim. Kaava_1_kartta_merkinnat.pdf)\n",
    "\n",
    "Koodin suorittamiseksi tarvitset kansion, jossa asiakirja-aineisto sijaitsee. Lisäksi tarvitset paikkatietomuotoisen indeksiaineiston.\n",
    "\n",
    "Koodin suorittamiseksi anna:\n",
    "\n",
    "-sen kunnan kuntanumero, jota haluat käsitellä.\n",
    "-mitä kaavalajia olet käsittelemässä.\n",
    "-missä sarakkeessa indeksitunnus sijaitsee paikkatiedossa.\n",
    "\n",
    "Lisäksi anna koodiin se kansio, johon haluat valmiin CSV-tiedoston."
   ]
  },
  {
   "cell_type": "code",
   "execution_count": 4,
   "id": "11765709",
   "metadata": {},
   "outputs": [
    {
     "name": "stdout",
     "output_type": "stream",
     "text": [
      "Found 9 matches.\n",
      "CSV file 'C:/Users/EmiliaTimlin/Documents/Meneillaan_olevat_Projektit/PohjoissavoVooka/testikansio_21//kaavatiedot_297_ak.csv' created successfully.\n"
     ]
    },
    {
     "name": "stderr",
     "output_type": "stream",
     "text": [
      "C:\\Users\\EmiliaTimlin\\miniconda3\\envs\\VOOKAPS_dev\\lib\\site-packages\\geopandas\\array.py:85: ShapelyDeprecationWarning: __len__ for multi-part geometries is deprecated and will be removed in Shapely 2.0. Check the length of the `geoms` property instead to get the  number of parts of a multi-part geometry.\n",
      "  aout[:] = out\n"
     ]
    }
   ],
   "source": [
    "#Anna tiedostopolku kansioon missä kaava-asiakirjat sijaitsevat\n",
    "\n",
    "kaava_asiakirjat = r'<insert filepath here>'\n",
    "\n",
    "\n",
    "#Anna tiedostopolku tiedostonimineen kunnan indeksiaineistoon\n",
    "\n",
    "#Indeksiaineiston tulee olla .gpkg tai .shp\n",
    "\n",
    "kunta_kaavaindeksi = r'<insert filepath here>'\n",
    "\n",
    "#Anna kuntanumero\n",
    "\n",
    "kunta_numero = '<insert kuntanumero here>'\n",
    "\n",
    "#Anna kaavalajin nimi\n",
    "\n",
    "kaavalaji = '<insert kaavalaji here>'\n",
    "\n",
    "#Anna sarakkeen nimi, jossa indeksitieto sijaitsee\n",
    "indeksi_sarake = '<insert column name here>'\n",
    "\n",
    "#Laita tähän sen kansion polku, johon haluat saada kaavatiedot.\n",
    "directory = r'<insert kaavalaji here>'\n",
    "\n",
    "#Suorita linkitysfunktio\n",
    "\n",
    "%run -i lib/matching_filename_to_kaavaindex_main.py\n"
   ]
  },
  {
   "cell_type": "markdown",
   "id": "e362b5c9",
   "metadata": {},
   "source": [
    "Tuotoksena syntyy CSV-taulukko, joka vastaa PDF-linkityskonversiotaulukkoa.\n",
    "\n",
    "| Kuntanumero | Kunnan indeksitunnus | KTJ-indeksitunnus | Original filename | New filename | Match equivalency %  | Kaavalaji | Manuaalisesti tarkistettu | Dokumentin tyyppi |\n",
    "| :--- | :--- | :--- | :--- | :--- | :--- | :--- | :--- | :--- |\n",
    "| \"Kuntanumero\" | \"Kunnan kaavaindeksi\" | \"Tyhjä\" | \"Tiedoston nimi\" | \"Tyhjä\" | \"Vertailuarvo\" | \"Kaavalaji\" | \"FALSE\" | \"Dokumentin tyyppi\" |\n",
    "| 140* | 1* | - | Kaava_1.pdf | - | 90 | ak* | FALSE | 1* |\n",
    "\n",
    "*esimerkki"
   ]
  },
  {
   "cell_type": "markdown",
   "id": "a24a7bfc",
   "metadata": {},
   "source": [
    "### 5.1.6 Kaava-asiakirjataulun luominen PDF-linkityskonversiotauluun"
   ]
  },
  {
   "cell_type": "markdown",
   "id": "dad2f753",
   "metadata": {},
   "source": [
    "<span style=\"color:red\">**Mikäli vaihetta 5.1.5 ei voitu suorittaa aineistolle, voidaan suorittaa asiakirjataulun luonti tauluun ilman tiedostonimien linkitystä paikkatietoaineistoon.**</span>"
   ]
  },
  {
   "cell_type": "markdown",
   "id": "79809d63",
   "metadata": {},
   "source": [
    "Koodilla voidaan tuottaa useamman kunnan kaava-asiakirjat lajiteltuna taulukkoon.\n",
    "\n",
    "HUOM! Tämä vaatii sen, että kohdan 5.1.2 ohjetta hakemistorakenteeseen on noudatettu."
   ]
  },
  {
   "cell_type": "code",
   "execution_count": 2,
   "id": "5de3b682",
   "metadata": {
    "scrolled": true
   },
   "outputs": [
    {
     "name": "stdout",
     "output_type": "stream",
     "text": [
      "CSV file C:/Users/EmiliaTimlin/Documents/Meneillaan_olevat_Projektit/PohjoissavoVooka/testikansio_21/kaavatiedot_297 created successfully.\n"
     ]
    }
   ],
   "source": [
    "#Anna tiedostopolku kansioon missä kaava-asiakirjat sijaitsevat\n",
    "path_to_folder = r'<insert filepath here>'\n",
    "\n",
    "\n",
    "#Laita tähän sen kansion polku, johon haluat saada kaavatiedot.\n",
    "file_path = r'<insert filepath here>/'\n",
    "\n",
    "%run -i lib/write_csv_main.py"
   ]
  },
  {
   "cell_type": "markdown",
   "id": "17d442c5",
   "metadata": {},
   "source": [
    "### 5.1.7 Kaavaliitetiedostojen uudelleennimeäminen"
   ]
  },
  {
   "cell_type": "markdown",
   "id": "7dc28a01",
   "metadata": {},
   "source": [
    "Liitetiedostojen uudelleennimeämisen periaatteena on yhdenmukaisten liitenimien muodostus. ETL-työkalu muodostaa vakioidut liitenimet liitostauluun new_name-ominaisuustietokenttään seuraavin periaattein:\n",
    "\n",
    "1) Liitenimi huomioi [virallisen kuntakoodin](https://www2.tilastokeskus.fi/fi/luokitukset/kunta/)\n",
    "2) Liitenimi huomioi [Rakennetun ympäristön tietojärjestelmän (Ryhti) koodistojen mukaisesti kaavalajin](https://koodistot.suomi.fi/codescheme;registryCode=rytj;schemeCode=RY_Kaavalaji)\n",
    "3) Liitenimi huomioi [Ryhti:n koodistojen mukaisesti asiakirjan lajin](https://koodistot.suomi.fi/codescheme;registryCode=rytj;schemeCode=RY_AsiakirjanLaji_YKAK)\n",
    "4) Liitenimi huomioi kaavatunnuksen\n",
    "5) Kaksi tai useampi liite ei saa olla samanniminen\n",
    "\n",
    "Esimerkki ETL-työkalun tuottamasta liitenimestä on \"491-31-05-13030-2.pdf\", jossa:\n",
    "- 491 on Mikkelin virallinen kuntakoodi\n",
    "- 31 on Ryhti:n kaavalaji-koodiston mukaisesti asemakaava\n",
    "- 05 viittaa Ryhti:n asiakirjan laji -koodiston mukaisesti siihen, että liite sisältää sekä kaavakartan että määräykset\n",
    "- 13030 on kunnan indeksitunnus\n",
    "- 2 on liukuva järjestysnumero (491-31-05-13030-1.pdf on jo olemassa, eli voimassa olevalle kaavalle on löytynyt kaksi samannimistä liitettä)\n",
    "\n",
    "ETL-työkalu mahdollistaa liitetiedoston uudelleennimeämisen joko KTJ-indeksitunnukseen tai kunnan omaan indeksitunnukseen perustuen\n",
    "\n",
    "<span style=\"color:red\">**HUOM! Kaavaliitetiedostojen uudelleennimeämiskäytäntö on ainoastaan ehdotus liitteiden nimeämiselle Ryhti:ssä! Vakioitu nimeämiskäytäntö voi muuttua Ryhti-toteutusprojektin aikana!**</span>"
   ]
  },
  {
   "cell_type": "code",
   "execution_count": null,
   "id": "293a6bf8",
   "metadata": {},
   "outputs": [],
   "source": [
    "# Käytettävien Python moduulien ja kehitettyjen funktioiden sisäänluku\n",
    "import geopandas as gpd\n",
    "from lib.pdf_parser import createNewAttachmentName, renamePdfAttachments"
   ]
  },
  {
   "cell_type": "code",
   "execution_count": null,
   "id": "a014d1d0",
   "metadata": {},
   "outputs": [],
   "source": [
    "# Master geopackage\n",
    "kaava_data_yk = gpd.read_file(r\"<insert filepath here>.gpkg\", layer=\"yleiskaavat_ktj\") # vaihda kunnan aineisto tarvittaessa tilalle\n",
    "kaava_data_ak = gpd.read_file(r\"<insert filepath here>.gpkg\", layer=\"asemakaavat_ktj\") # vaihda kunnan aineisto tarvittaessa tilalle\n",
    "\n",
    "# Voit myös yhdistää kaavadatat uudelleennimeämistä helpottaksesi.\n",
    "# HUOM! Dataframe-skeemojen olisi syytä olla samat, jotta concat toimii järkevästi\n",
    "kaava_data = pd.concat([kaava_data_ak, kaava_data_yk], ignore_index=True)\n",
    "\n",
    "# Funktio palauttaa liitostaulun, jossa on liitteiden uudet nimet \"New_name\"-sarakkeessa\n",
    "# Funktion voi ajaa monta kertaa samalle datalle eri parametrein (uusia, jo muodostettuja liitenimiä ei kirjoiteta yli)\n",
    "data_newname = createNewAttachmentName(kaava_data=kaava_data,\n",
    "                                       kaavadata_tunnus_column='kaavatunnus_1', # vaihda tarvittaessa \"kaavatunnus\" tilalle, jos haluat käyttää kunnan kaavatunnusta\n",
    "                                       table_data=data, # liitostaulu\n",
    "                                       table_tunnus_column='KTJ-indeksitunnus') # vaihda tarvittaessa \"Kunnan indeksitunnus\" tilalle\n",
    "\n",
    "# Valitaan kunta, jonka liitteitä aletaan uudelleennimeämään\n",
    "# Ei pakollista, mutta nopeuttaa uudeelleennimeämisprosessia\n",
    "kunta = data_newname.loc[data_newname['Kunta'] == <insert kuntakoodi here>]\n",
    "\n",
    "# Uudelleennimeäminen\n",
    "renamePdfAttachments(data=kunta, # tai data_newname suoraan\n",
    "                     master_dir=r\"<insert filepath here>\", # documents, koko hakemistorakenne\n",
    "                     kuntakoodi=\"<insert kuntakoodi here>\", # kuntakoodi-kansio hakemistorakenteessa\n",
    "                     kaavalaji=\"ak\") # vaihda \"rak\", \"yk\" uusiin ajoihin"
   ]
  },
  {
   "cell_type": "markdown",
   "id": "c11c06c8",
   "metadata": {},
   "source": [
    "### 5.1.8 Liitetiedostojen linkitys paikkatietoaineistoon"
   ]
  },
  {
   "cell_type": "code",
   "execution_count": null,
   "id": "3304391b",
   "metadata": {},
   "outputs": [],
   "source": [
    "# Kehitettyjen funktioiden sisäänluku\n",
    "from lib.pdf_parser import joinPDFsToKaavadata"
   ]
  },
  {
   "cell_type": "code",
   "execution_count": null,
   "id": "70739c2f",
   "metadata": {},
   "outputs": [],
   "source": [
    "# Esimerkkinä KTJ:n yleiskaavat\n",
    "joined = joinPDFsToKaavadata(kaavadata=kaava_data_yk,\n",
    "                             link_table=data_newname,\n",
    "                             kuntakoodi=\"<insert kuntakoodi here>\",\n",
    "                             kaavalaji=\"yk\", # kaavalaji hakemistorakenteessa, \"ak\", \"rak\" tai \"yk\"\n",
    "                             kaavadata_tunnus_column=\"kaavatunnus_1\", # vaihda tarvittaessa \"kaavatunnus\" tilalle, jos haluat käyttää kunnan kaavatunnusta\n",
    "                             table_tunnus_column='KTJ-indeksitunnus') # vaihda tarvittaessa \"Kunnan indeksitunnus\" tilalle\n",
    "\n",
    "# Tallennus\n",
    "joined.to_file(r\"<insert filepath here>.gpkg\", layer='yleiskaavat_ktj', driver=\"GPKG\")"
   ]
  },
  {
   "cell_type": "markdown",
   "id": "39bc64a8",
   "metadata": {},
   "source": [
    "## 5.2 PDF/A-konversio"
   ]
  },
  {
   "cell_type": "markdown",
   "id": "02e904b7",
   "metadata": {},
   "source": [
    "ETL-työkalu konvertoi kunnilta saadut liite-PDF-tiedostot automatisoidusti Ghostscript-muuntimella PDF/A-arkistoformaattiin. Muunnin perustuu soveltuvin osin GitHubista avoimesti saatavilla olevaan [Python-Ghostscript-konvertteriin](https://github.com/Rajasekaran85/Python-PDF-A-Conversion). VOOKA-projektin tarpeisiin muokattu muunnin löytyy omana versionaan projektin [GitHub-sivuilta](https://github.com/ubigu/vooka).\n",
    "\n",
    "Jos saatu PDF-formaatti on toteutettu versiolla, jota ei saada PDF/A-muotoon, se tallennetaan sellaisenaan. Mikäli jotkin kunnan PDF-tiedostot eivät käänny kunnan aineistosta johtuvista teknisistä syistä PDF/A-muotoon, tallennetaan nämä normaalissa PDF-muodossa.\n",
    "\n",
    "ETL-työkalun PDF/A-konvertteri kysyy käyttäjältä tiedostopolkuja input- ja output-kansioihin. Muuntaja kääntää kaikki input-kansiossa olevat PDF-tiedostot PDF/A-formaattiin ja tallentaa ne output-kansioon."
   ]
  },
  {
   "cell_type": "code",
   "execution_count": null,
   "id": "e4cf2fbd",
   "metadata": {},
   "outputs": [],
   "source": [
    "from lib.pdf_a_conv import writePdfA\n",
    "writePdfA()"
   ]
  }
 ],
 "metadata": {
  "kernelspec": {
   "display_name": "Python 3 (ipykernel)",
   "language": "python",
   "name": "python3"
  },
  "language_info": {
   "codemirror_mode": {
    "name": "ipython",
    "version": 3
   },
   "file_extension": ".py",
   "mimetype": "text/x-python",
   "name": "python",
   "nbconvert_exporter": "python",
   "pygments_lexer": "ipython3",
   "version": "3.7.11"
  }
 },
 "nbformat": 4,
 "nbformat_minor": 5
}
