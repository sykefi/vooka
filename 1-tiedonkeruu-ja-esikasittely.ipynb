{
 "cells": [
  {
   "cell_type": "markdown",
   "id": "759d3478",
   "metadata": {},
   "source": [
    "# 1. Tiedonkeruu ja esikäsittely"
   ]
  },
  {
   "cell_type": "markdown",
   "id": "4ddfaeb3",
   "metadata": {},
   "source": [
    "## 1.1 Rajapinnat"
   ]
  },
  {
   "cell_type": "markdown",
   "id": "51639aa8",
   "metadata": {},
   "source": [
    "VOOKA-projektin ETL-työkalussa tietojen kerääminen on mahdollista teknisesti kolmesta eri lähteestä:\n",
    "\n",
    "1. OGC:n WFS-standardin mukaisista rajapinnoista,\n",
    "2. Esrin ArcGIS Feature Layereista sekä\n",
    "3. OGC API Features -rajapinnoista\n",
    "\n",
    "Kaksi ensimmäiseksi mainittua palauttavat syötetyn URL:n mukaisen tiedon kokonaisuudessaan GeoPandas GeoDataframena."
   ]
  },
  {
   "cell_type": "markdown",
   "id": "9be68f50",
   "metadata": {},
   "source": [
    "### 1.1.1 WFS ja ArcGIS Feature Layer"
   ]
  },
  {
   "cell_type": "code",
   "execution_count": null,
   "id": "108c0eea",
   "metadata": {},
   "outputs": [],
   "source": [
    "# Käytettävien Python moduulien ja kehitettyjen funktioiden sisäänluku\n",
    "import geopandas as gpd\n",
    "from lib.get_feature_data import getWFSlayers, getWFSdata, getArcgisFeatureLayer"
   ]
  },
  {
   "cell_type": "code",
   "execution_count": null,
   "id": "39233dbf",
   "metadata": {},
   "outputs": [],
   "source": [
    "# Esimerkki 1.\n",
    "print(getWFSlayers(url=\"https://kunnat.navici.com/geoserver/sulkava/wfs\"))\n",
    "yk_data = getWFSdata(url=\"https://kunnat.navici.com/geoserver/sulkava/wfs\", layer=\"sulkava:kaavarajat_osayleiskaava\")\n",
    "print(type(yk_data))\n",
    "\n",
    "# Tallennus\n",
    "yk_data.to_file(r\"<insert filepath here>.gpkg\", layer=\"<insert layer name here>\")"
   ]
  },
  {
   "cell_type": "code",
   "execution_count": null,
   "id": "e9e95d81",
   "metadata": {},
   "outputs": [],
   "source": [
    "# Esimerkki 2.\n",
    "rak_data = getArcgisFeatureLayer(layer_url=\"https://services1.arcgis.com/biwBTnEqa75tyWMg/ArcGIS/rest/services/RAK_indeksi/FeatureServer/0\")\n",
    "print(type(rak_data))\n",
    "\n",
    "# Tallennus\n",
    "rak_data.to_file(r\"<insert filepath here>.gpkg\", layer=\"<insert layer name here>\")"
   ]
  },
  {
   "cell_type": "markdown",
   "id": "31358c6d",
   "metadata": {},
   "source": [
    "### 1.1.2 OGC API Features"
   ]
  },
  {
   "cell_type": "markdown",
   "id": "6eba7345",
   "metadata": {},
   "source": [
    "OGC API Features -skripti palauttaa API:n sisältöä GeoJSON-formaatissa Etelä-Savon maankunnan rajauksella (bounding box), joka on kovakoodattu toteutukseen. **Jatkokehityksessä kovakoodattu maantieteellinen rajaus tulee korvata halutun alueen koordinaateilla!**\n",
    "\n",
    "Skiptiin on myös lisätty apufunktioita, joiden avulla MML:n kiinteistötietorajapinnasta haettu GeoJSON-muotoinen dataskeema voidaan normalisoida tabulaariseksi tiedoksi GeoPandas GeoDataframeen ja tallentaa pickle-kirjaston pkl-tiedostona."
   ]
  },
  {
   "cell_type": "code",
   "execution_count": null,
   "id": "60978b24",
   "metadata": {},
   "outputs": [],
   "source": [
    "# Kehitettyjen funktioiden sisäänluku\n",
    "from lib.OGC_API_Features_handler import getDataFromAPI, normalizeKiinteistorajaSchema, normalizeKiinteistotunnusSchema, normalizeRajamerkkiSchema"
   ]
  },
  {
   "cell_type": "code",
   "execution_count": null,
   "id": "3816b389",
   "metadata": {},
   "outputs": [],
   "source": [
    "# Esimerkki 3.\n",
    "# Kirjoita parametreihin halutut tiedot (lisätietoja OGC_API_Features_handler.py funktioiden docstringeista)\n",
    "# Tarvitset kiinteistötunnustietoja (piste) sekä kiinteistöpalstatietoja (polygon) myöhemmin!\n",
    "api_data = getDataFromAPI(url=\"<insert url here>\",\n",
    "                          username=\"<insert username here>\",\n",
    "                          password=\"<insert password here>\",\n",
    "                          outfp=r\"<insert output filepath here>.pkl\")\n",
    "\n",
    "# MML:n kiinteistötietorajapinnan tietojen normalisointi ja pkl-tallentaminen\n",
    "norm_data_1 = normalizeKiinteistotunnusSchema(infp=r\"<insert input filepath here>.pkl\", outfp=r\"<insert output filepath here>.pkl\")\n",
    "#norm_data_2 = normalizeKiinteistorajaSchema(infp=\"<insert input filepath here>\", outfp=\"<insert output filepath here>\")\n",
    "#norm_data_3 = normalizeRajamerkkiSchema(infp=\"<insert input filepath here>\", outfp=\"<insert output filepath here>\")"
   ]
  },
  {
   "cell_type": "markdown",
   "id": "f3b8cb61",
   "metadata": {},
   "source": [
    "## 1.2 Esikäsittely"
   ]
  },
  {
   "cell_type": "markdown",
   "id": "076ae593",
   "metadata": {},
   "source": [
    "### 1.2.1 KTJ-aineisto"
   ]
  },
  {
   "cell_type": "markdown",
   "id": "980a0790",
   "metadata": {},
   "source": [
    "MML:n KTJ-aineistoissa kuntaliitosalueiden kaavoille on ilmoitettu vanha kuntakoodi. Nämä tulee päivittää vastaamaan voimassa olevaa kuntakoodia kattavan vertailun mahdollistamiseksi kunta-aineistojen kanssa. **Toteutus on koodattu vastaamaan ainoastaan Etelä-Savon maakuntien kuntakoodeja!** Input parametrina käytetään GeoPandas GeoDataframe muodossa olevaa KTJ-aineistoa."
   ]
  },
  {
   "cell_type": "code",
   "execution_count": null,
   "id": "64e40e95",
   "metadata": {},
   "outputs": [],
   "source": [
    "# Kehitettyjen funktioiden sisäänluku\n",
    "from lib.ktj_update_kuntakoodit import updateOldKuntakoodi"
   ]
  },
  {
   "cell_type": "code",
   "execution_count": null,
   "id": "16da8188",
   "metadata": {},
   "outputs": [],
   "source": [
    "# Lisää tiedostopolut KTJ-aineiston input ja output geopackageen sekä karttataso\n",
    "ktj_data = gpd.read_file(r\"<insert filepath here>.gpkg\", layer=\"<insert layer name here>\")\n",
    "ktj_update = updateOldKuntakoodi(ktj_data)\n",
    "\n",
    "# Tallennus\n",
    "ktj_update.to_file(r\"<insert filepath here>.gpkg\", layer=\"<insert layer name here>\")"
   ]
  },
  {
   "cell_type": "markdown",
   "id": "3976d7e4",
   "metadata": {},
   "source": [
    "### 1.2.2 Kunta-aineistot"
   ]
  },
  {
   "cell_type": "markdown",
   "id": "66deccd2",
   "metadata": {},
   "source": [
    "Kunta-aineistojen esikäsittelytarpeet voivat olla hyvin kuntaspesifejä. VOOKA-projektin tapauksessa erään kunnan WFS-rajapinta oli toteutettu KuntaGML-formaatissa, jonka sisäänluku ei onnistunut perinteisin menetelmin. Ongelma ratkaistiin erillisellä XML-parser-skriptillä, jossa kaavatiedot irrotettiin suoraan merkintäkielen rakenteesta.\n",
    "\n",
    "Lisäksi osa kunta-aineistoista voi olla saatavina vain erillistoimitettuina CAD-piirroksina. VOOKA-projetissa erään kunnan CAD-aineistossa ominaisuustiedot oli sidottu pistegeometrioihin varsinaisten kaavarajojen sijasta. Ominaisuustietojen yhdistäminen kaavarajoihin toteutettiin hankkeessa niin ikään erillisellä skriptillä, jota edelsi tiedon muunnos paikkatietoformaattiin FME-ohjelmistolla.\n",
    "\n",
    "Näihin tapauksiin voi käydä tutustumassa erikseen VOOKA-hankkeen [GitHub-sivujen kautta](https://github.com/ubigu/vooka). Erillisskriptit löytyvät muut-kansiossa."
   ]
  }
 ],
 "metadata": {
  "kernelspec": {
   "display_name": "Python 3 (ipykernel)",
   "language": "python",
   "name": "python3"
  },
  "language_info": {
   "codemirror_mode": {
    "name": "ipython",
    "version": 3
   },
   "file_extension": ".py",
   "mimetype": "text/x-python",
   "name": "python",
   "nbconvert_exporter": "python",
   "pygments_lexer": "ipython3",
   "version": "3.7.11"
  }
 },
 "nbformat": 4,
 "nbformat_minor": 5
}
