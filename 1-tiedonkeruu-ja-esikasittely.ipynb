{
 "cells": [
  {
   "cell_type": "markdown",
   "id": "759d3478",
   "metadata": {},
   "source": [
    "# 1. Tiedonkeruu ja esikäsittely"
   ]
  },
  {
   "cell_type": "markdown",
   "id": "4ddfaeb3",
   "metadata": {},
   "source": [
    "## 1.1 Rajapinnat"
   ]
  },
  {
   "cell_type": "markdown",
   "id": "51639aa8",
   "metadata": {},
   "source": [
    "VOOKA-projektin ETL-työkalussa tietojen kerääminen on mahdollista teknisesti kolmesta eri lähteestä:\n",
    "\n",
    "1. OGC:n WFS-standardin mukaisista rajapinnoista,\n",
    "2. Esrin ArcGIS Feature Layereista sekä\n",
    "3. OGC API Features -rajapinnoista\n",
    "\n",
    "Kaksi ensimmäiseksi mainittua palauttavat syötetyn URL:n mukaisen tiedon kokonaisuudessaan GeoPandas GeoDataframena."
   ]
  },
  {
   "cell_type": "markdown",
   "id": "9be68f50",
   "metadata": {},
   "source": [
    "### 1.1.1 WFS ja ArcGIS Feature Layer"
   ]
  },
  {
   "cell_type": "code",
   "execution_count": null,
   "id": "108c0eea",
   "metadata": {},
   "outputs": [],
   "source": [
    "# Käytettävien Python moduulien ja kehitettyjen funktioiden sisäänluku\n",
    "import geopandas as gpd\n",
    "from lib.get_feature_data import getWFSlayers, getWFSdata, getArcgisFeatureLayer"
   ]
  },
  {
   "cell_type": "code",
   "execution_count": null,
   "id": "39233dbf",
   "metadata": {},
   "outputs": [],
   "source": [
    "# Hae tasot ja data\n",
    "print(getWFSlayers(url=\"<insert layers-url here>\"))\n",
    "yk_data = getWFSdata(url=\"insert wfs-data-url here\", layer=\"<insert layer name here>\")\n",
    "print(type(yk_data))\n",
    "\n",
    "# Tallennus\n",
    "yk_data.to_file(r\"<insert filepath here>.gpkg\", layer=\"<insert layer name here>\")"
   ]
  },
  {
   "cell_type": "code",
   "execution_count": null,
   "id": "e9e95d81",
   "metadata": {},
   "outputs": [],
   "source": [
    "# Esimerkki 2.\n",
    "rak_data = getArcgisFeatureLayer(layer_url=\"<insert url here>\")\n",
    "print(type(rak_data))\n",
    "\n",
    "# Tallennus\n",
    "rak_data.to_file(r\"<insert filepath here>.gpkg\", layer=\"<insert layer name here>\")"
   ]
  },
  {
   "cell_type": "markdown",
   "id": "31358c6d",
   "metadata": {},
   "source": [
    "### 1.1.2 OGC API Features"
   ]
  },
  {
   "cell_type": "markdown",
   "id": "6eba7345",
   "metadata": {},
   "source": [
    "OGC API Features -skripti palauttaa API:n sisältöä GeoJSON-formaatissa Etelä-Savon maankunnan rajauksella (bounding box), joka on kovakoodattu toteutukseen. **Jatkokehityksessä kovakoodattu maantieteellinen rajaus tulee korvata halutun alueen koordinaateilla!**\n",
    "\n",
    "Skiptiin on myös lisätty apufunktioita, joiden avulla MML:n kiinteistötietorajapinnasta haettu GeoJSON-muotoinen dataskeema voidaan normalisoida tabulaariseksi tiedoksi GeoPandas GeoDataframeen ja tallentaa pickle-kirjaston pkl-tiedostona."
   ]
  },
  {
   "cell_type": "code",
   "execution_count": null,
   "id": "60978b24",
   "metadata": {},
   "outputs": [],
   "source": [
    "# Kehitettyjen funktioiden sisäänluku\n",
    "from lib.OGC_API_Features_handler import getDataFromAPI, normalizeKiinteistorajaSchema, normalizeKiinteistotunnusSchema, normalizeRajamerkkiSchema"
   ]
  },
  {
   "cell_type": "code",
   "execution_count": null,
   "id": "3816b389",
   "metadata": {},
   "outputs": [],
   "source": [
    "# Esimerkki 3.\n",
    "# Kirjoita parametreihin halutut tiedot (lisätietoja OGC_API_Features_handler.py funktioiden docstringeista)\n",
    "# Tarvitset kiinteistötunnustietoja (piste) sekä kiinteistöpalstatietoja (polygon) myöhemmin!\n",
    "api_data = getDataFromAPI(url=\"<insert url here>\",\n",
    "                          username=\"<insert username here>\",\n",
    "                          password=\"<insert password here>\",\n",
    "                          outfp=r\"<insert output filepath here>.pkl\")\n",
    "\n",
    "# MML:n kiinteistötietorajapinnan tietojen normalisointi ja pkl-tallentaminen\n",
    "norm_data_1 = normalizeKiinteistotunnusSchema(infp=r\"<insert input filepath here>.pkl\", outfp=r\"<insert output filepath here>.pkl\")\n",
    "#norm_data_2 = normalizeKiinteistorajaSchema(infp=\"<insert input filepath here>\", outfp=\"<insert output filepath here>\")\n",
    "#norm_data_3 = normalizeRajamerkkiSchema(infp=\"<insert input filepath here>\", outfp=\"<insert output filepath here>\")"
   ]
  },
  {
   "cell_type": "markdown",
   "id": "fe5012ce",
   "metadata": {},
   "source": [
    "## 1.2 Tiedonkeruu"
   ]
  },
  {
   "cell_type": "markdown",
   "id": "b2edd004",
   "metadata": {},
   "source": [
    "Tällä koodilla voidaan ladata suoraan CSV-taulukkoon koostetusta url-osoitetaulukosta tiedostoja. Tätä varten tarvitaan vain CSV-taulukko, joka sisältää listan niistä tiedostoista, jotka halutaan ladata.\n",
    "\n",
    "Koodi ilmoittaa mikäli tiedoston lataaminen epäonnistui.\n",
    "\n",
    "Pohjois-Savon VOOKA-pilotissa tällä koodilla kerättiin kaava-asiakirjoja."
   ]
  },
  {
   "cell_type": "markdown",
   "id": "27f17832",
   "metadata": {},
   "source": [
    "**HUOM! Lataa tiedostoja vain sellaisista osoitteista, jotka ovat luotettavia.**"
   ]
  },
  {
   "cell_type": "code",
   "execution_count": null,
   "id": "2b508564",
   "metadata": {},
   "outputs": [],
   "source": [
    "#CSV-tiedosto, jossa url-lista ladattavista dokumenteista. Sarakkeen nimeksi laitetaan \"osoite\".\n",
    "csv_file = r'<insert filepath here>'\n",
    "\n",
    "#Sarakkeen nimi, jossa url-lista sijaitsee\n",
    "column_name = '<insert column name>'\n",
    "\n",
    "#Valitse kansio, jonne haluat dokumenttien latautuvan.\n",
    "download_dir = r'<insert filepath here>'\n",
    "\n",
    "%run -i lib/download_files_from_url_main.py"
   ]
  },
  {
   "cell_type": "markdown",
   "id": "f3b8cb61",
   "metadata": {},
   "source": [
    "## 1.3 Esikäsittely"
   ]
  },
  {
   "cell_type": "markdown",
   "id": "076ae593",
   "metadata": {},
   "source": [
    "### 1.3.1 KTJ-aineisto"
   ]
  },
  {
   "cell_type": "markdown",
   "id": "980a0790",
   "metadata": {},
   "source": [
    "MML:n KTJ-aineistoissa kuntaliitosalueiden kaavoille on ilmoitettu vanha kuntakoodi. Nämä tulee päivittää vastaamaan voimassa olevaa kuntakoodia kattavan vertailun mahdollistamiseksi kunta-aineistojen kanssa. **Toteutus on koodattu vastaamaan ainoastaan Etelä-Savon maakuntien kuntakoodeja!** Input parametrina käytetään GeoPandas GeoDataframe muodossa olevaa KTJ-aineistoa."
   ]
  },
  {
   "cell_type": "code",
   "execution_count": null,
   "id": "64e40e95",
   "metadata": {},
   "outputs": [],
   "source": [
    "# Kehitettyjen funktioiden sisäänluku\n",
    "from lib.ktj_update_kuntakoodit import updateOldKuntakoodi"
   ]
  },
  {
   "cell_type": "code",
   "execution_count": null,
   "id": "16da8188",
   "metadata": {},
   "outputs": [],
   "source": [
    "# Lisää tiedostopolut KTJ-aineiston input ja output geopackageen sekä karttataso\n",
    "ktj_data = gpd.read_file(r\"<insert filepath here>.gpkg\", layer=\"<insert layer name here>\")\n",
    "ktj_update = updateOldKuntakoodi(ktj_data)\n",
    "\n",
    "# Tallennus\n",
    "ktj_update.to_file(r\"<insert filepath here>.gpkg\", layer=\"<insert layer name here>\")"
   ]
  },
  {
   "cell_type": "markdown",
   "id": "3976d7e4",
   "metadata": {},
   "source": [
    "### 1.3.2 Kunta-aineistot"
   ]
  },
  {
   "cell_type": "markdown",
   "id": "66deccd2",
   "metadata": {},
   "source": [
    "Kunta-aineistojen esikäsittelytarpeet voivat olla hyvin kuntaspesifejä. VOOKA-projektin tapauksessa erään kunnan WFS-rajapinta oli toteutettu KuntaGML-formaatissa, jonka sisäänluku ei onnistunut perinteisin menetelmin. Ongelma ratkaistiin erillisellä XML-parser-skriptillä, jossa kaavatiedot irrotettiin suoraan merkintäkielen rakenteesta.\n",
    "\n",
    "Lisäksi osa kunta-aineistoista voi olla saatavina vain erillistoimitettuina CAD-piirroksina. VOOKA-projetissa erään kunnan CAD-aineistossa ominaisuustiedot oli sidottu pistegeometrioihin varsinaisten kaavarajojen sijasta. Ominaisuustietojen yhdistäminen kaavarajoihin toteutettiin hankkeessa niin ikään erillisellä skriptillä, jota edelsi tiedon muunnos paikkatietoformaattiin FME-ohjelmistolla.\n",
    "\n",
    "Näihin tapauksiin voi käydä tutustumassa erikseen VOOKA-hankkeen GitHub-sivujen kautta. Erillisskriptit löytyvät [muut-kansiossa](https://github.com/ubigu/vooka/tree/master/muut)."
   ]
  },
  {
   "cell_type": "markdown",
   "id": "edfac946",
   "metadata": {},
   "source": [
    "## 1.4 PDF-linkityskonversio"
   ]
  },
  {
   "cell_type": "markdown",
   "id": "f075ef7c",
   "metadata": {},
   "source": [
    "### 1.4.1 Linkitystaulu"
   ]
  },
  {
   "cell_type": "markdown",
   "id": "180da22e",
   "metadata": {},
   "source": [
    "PDF-kaava-asiakirjojen linkittäminen yhtenäisessä muodossa kaavojen paikkatietoihin on mahdollista, jos tiedetään, mihin kaavaindeksitunnukseen kukin liite kytkeytyy. Tässä ETL-työkalussa esitetyt automatisoinnit vaativat validointia, eli linkittäjän tuottama aineisto tulee tarkistaa osaltaan manuaalisesti. Lisäksi automatisaation avulla ei voida poistaa tarvetta manuaaliselle linkittämiselle.\n",
    "\n",
    "Työssä PDF-linkitystä varten koostettiin liitostaulu, jossa jokaisella rivillä on tieto kaavan indeksitunnuksesta (KTJ, kunnan aineisto tai molemmat) sekä kaavan dokumenttityypistä (esim. osallistamis- ja arviointisuunnitelma). Kaiken kaikkiaan liitostaulun skeema oli seuraavanlainen:\n",
    "\n",
    "| Ominaisuustieto | Selite |\n",
    "| :--- | :--- |\n",
    "| Kuntanumero | Kunnan virallinen kuntakoodi |\n",
    "| Kunnan indeksitunnus | Kunnan paikkatietomuotoisen kaava-aineiston kaavaindeksitunnus |\n",
    "| KTJ-indeksitunnus | KTJ-aineiston kaavaindeksitunnus (\"kaavatunnus_1\") |\n",
    "| Original filename | Kunnalta saadun kaavaliitteen alkuperäinen tiedostonimi |\n",
    "| New filename | Sarake uudelle tiedostonimelle|\n",
    "| Kaavalaji | Kaavalajikoodisto ylätasolla |\n",
    "| Manuaalisesti tarkistettu | Onko aineisto tarkistettu manuaalisesti (boolean) |\n",
    "| Dokumentin tyyppi | Dokumenttityyppikoodisto, numeerinen |\n",
    "| Match equivalency % | Automaattisen linkityksen vastaavuusprosentti |\n",
    "| Huomioita | Kenttä havaintojen kirjaamista varten |\n",
    "| Multipage | Onko liitteessä useampi kuin yksi sivu (boolean) |\n",
    "| Tila | Koodisto, joka kertoo, onko kaavaliite validi |\n",
    "| Voimassa oleva | Onko liite voimassa vai ei (boolean) |\n",
    "| Geometry origin | Geometrian lähdeaineisto |\n",
    "| Virhetyyppi | Kuvaus mahdollisesta havaitusta virheestä, numeerinen |\n",
    "| Kuvaus | Kaavatietomallia varten geometry origin ja virhetyyppi -kentistä generoitu kuvaava teksti |\n",
    "\n",
    "Kaavalaji-koodisto:\n",
    "- ak\n",
    "- rak\n",
    "- yk\n",
    "\n",
    "Dokumentin tyyppi -koodisto (sanallinen ja numeerinen):\n",
    "- 1 = kaavakartta (sis. merkinnät ja määräykset)\n",
    "- 2 = kaavakartta (ei sis. merkinnät ja määräykset)\n",
    "- 3 = merkinnät ja määräykset (erillisenä)\n",
    "- 6 = muu\n",
    "\n",
    "Tila-koodisto:\n",
    "- ok\n",
    "- ei ok\n",
    "\n",
    "Geometry origin-koodisto:\n",
    "- kunta\n",
    "- KTJ\n",
    "- digitoitu VOOKA:ssa\n",
    "- ei geometriaa\n",
    "\n",
    "Virhetyyppi-koodisto:\n",
    "- 0 = ei virhettä\n",
    "- 1 = Virhe/puute asiakirjassa\n",
    "- 2 = Virhe/puute rajauksessa\n",
    "- 3 = Virhe/puute asiakirjassa sekä rajauksessa\n",
    "- 4 = Muu virhe/puute\n",
    "- 5 = Ei indeksitunnusta\n"
   ]
  },
  {
   "cell_type": "markdown",
   "id": "38aea423",
   "metadata": {},
   "source": [
    "### 1.3.2 Kaava-asiakirjojen hakemistorakenne"
   ]
  },
  {
   "cell_type": "markdown",
   "id": "04fe2c55",
   "metadata": {},
   "source": [
    "Kunnilta saadut kaavaliitteet tallennettiin vakioituun hakemistorakenteeseen resurssienhallintaan. Hakemistorakenteen runko oli muotoa:\n",
    "\n",
    "```bash\n",
    "documents   \n",
    "│\n",
    "└───kuntakoodi\n",
    "│   │   \n",
    "│   │\n",
    "│   └───ak\n",
    "│   │   asiakirja.pdf\n",
    "│   │   asiakirja2.pdf\n",
    "│   │   ...\n",
    "│   └───rak\n",
    "│   │   asiakirja.pdf\n",
    "│   │   asiakirja2.pdf\n",
    "│   │   ...\n",
    "│   └───yk\n",
    "│       asiakirja.pdf\n",
    "│       asiakirja2.pdf\n",
    "│       ...\n",
    "...\n",
    "```\n",
    "\n",
    "**PDF-linkityskonversion ETL-funktiot on rakennettu kyseisen hakemistorakenteen varaan!**"
   ]
  },
  {
   "cell_type": "markdown",
   "id": "b708e152",
   "metadata": {},
   "source": [
    "### 1.4.4 Kaava-asiakirjojen lajittelu hakemistorakenteen mukaan kansioihin"
   ]
  },
  {
   "cell_type": "markdown",
   "id": "ce8c4a97",
   "metadata": {},
   "source": [
    "Tämä koodi lajittelee PDF-asiakirjat hakemistorakenteen mukaisesti. Koodi olettaa, että asiakirjat on lajiteltu kunnan nimellä olevaan kansioon kaavalajeittain. Lähtötilanteessa aineiston tulisi olla jaettuna asemakaavoihin, ranta-asemakaavoihin sekä yleiskaavoihin. Tämän enempää lajittelua ei ole tarpeen tehdä. Mikäli tätä lajittelua ei ole tehty, koodi antaa virheen.\n",
    "\n",
    "Tarkoituksena on välttää kansioiden alikansioiden avaamisesta syntyvää lisätyötä sekä automaattisesti poimia vain PDF-muotoiset asiakirjat."
   ]
  },
  {
   "cell_type": "code",
   "execution_count": null,
   "id": "aec0b1b4",
   "metadata": {},
   "outputs": [],
   "source": [
    "valittu_kansio = r'<insert filepath here>'\n",
    "\n",
    "\n",
    "%run -i lib/sort_files_by_kaavalaji_main.py"
   ]
  },
  {
   "cell_type": "markdown",
   "id": "86b5bf63",
   "metadata": {},
   "source": [
    "### 1.4.5 Kaavaindeksien kansiolajittelu"
   ]
  },
  {
   "cell_type": "markdown",
   "id": "d81d906f",
   "metadata": {},
   "source": [
    "Tämä koodi lajittelee kaavaindeksiaineistot (.gpkg, .shp, .dwg, .dxf) hakemistorakenteen mukaisesti. Koodi olettaa, että asiakirjat on lajiteltu kunnan nimellä olevaan kansioon kaavalajeittain. Lähtötilanteessa aineiston tulisi olla jaettuna asemakaavoihin, ranta-asemakaavoihin sekä yleiskaavoihin. Tämän enempää lajittelua ei ole tarpeen tehdä. Mikäli tätä lajittelua ei ole tehty, koodi antaa virheen.\n",
    "\n",
    "Tarkoituksena on välttää kansioiden alikansioiden avaamisesta syntyvää lisätyötä sekä automaattisesti poimia vain indeksiaineistot."
   ]
  },
  {
   "cell_type": "code",
   "execution_count": null,
   "id": "4cfcb24e",
   "metadata": {},
   "outputs": [],
   "source": [
    "valittu_kansio = r'<insert filepath here>'\n",
    "\n",
    "\n",
    "%run -i lib/sort_index_files_by_kaavalaji_main.py"
   ]
  },
  {
   "cell_type": "markdown",
   "id": "aafdee19",
   "metadata": {},
   "source": [
    "### 1.4.6 Kaavatunnuksella nimettyjen asiakirjojen linkitys kaavatunnukselliseen kunnan indeksiaineistoon"
   ]
  },
  {
   "cell_type": "markdown",
   "id": "553795f6",
   "metadata": {},
   "source": [
    "<span style=\"color:red\">**Tämä vaihe ei ole pakollinen! Vaatii kelvollisen paikkatietoaineiston, joka sisältää kunnan kaavatunnuksen. Lisäksi kunnan toimittamien asiakirjojen tiedostonimien tulee sisältää kaavatunnus.**</span>"
   ]
  },
  {
   "cell_type": "markdown",
   "id": "914eb8ff",
   "metadata": {},
   "source": [
    "Mikäli kaava-asiakirjojen nimet sisältävät kunnan kaavatunnuksen ja kunnasta on toimitettu paikkatietoaineisto, joka sisältää kaavatunnuksen, on mahdollista linkittää kaava-asiakirjat indeksi aineistoon automaattisesti.\n",
    "\n",
    "HUOM!\n",
    "Automatisaatio perustuu sumeaan logiikkaan tarkoittaen sitä, että automatisaation linkittämät indeksit eivät välttämättä vastaa toisiaan täydellisesti.\n",
    "\n",
    "Automatisaatio tuottaa CSV-taulukkoon arvon, joka ilmoittaa kuinka hyvin tiedostonimi vastasi indeksiä. Jos arvo on alle 80, niin tilanne tulee arvioida tilannekohtaisesti. Mitä matalampi arvo on, sitä todennäköisemmin automatisaatio on antanut väärän tai valheellisen linkitystuloksen.\n",
    "\n",
    "HUOM!\n",
    "\n",
    "Koodi tulkitsee dokumentin tyypin tiedostonimestä. Koodi antaa oletuksena dokumentin tyypiksi kaavakartan määräyksineen (arvo 1). Mikäli nimessä mainitaan merkintä tai määräys koodi antaa dokumentin tyypiksi kaavamääräyksen (3).\n",
    "NÄMÄ TULEE AINA TARKISTAA MANUAALISESTI!\n",
    "\n",
    "(Usein kaava-asiakirjojen tiedostonimessä voi esiintyä määräykseen viittaava sana, mutta todellisuudessa asiakirja sisältää sekä kartan että määräykset: esim. Kaava_1_kartta_merkinnat.pdf)\n",
    "\n",
    "Koodin suorittamiseksi tarvitset kansion, jossa asiakirja-aineisto sijaitsee. Lisäksi tarvitset paikkatietomuotoisen indeksiaineiston.\n",
    "\n",
    "Koodin suorittamiseksi anna:\n",
    "\n",
    "-sen kunnan kuntanumero, jota haluat käsitellä.\n",
    "-mitä kaavalajia olet käsittelemässä.\n",
    "-missä sarakkeessa indeksitunnus sijaitsee paikkatiedossa.\n",
    "\n",
    "Lisäksi anna koodiin se kansio, johon haluat valmiin CSV-tiedoston."
   ]
  },
  {
   "cell_type": "code",
   "execution_count": null,
   "id": "d559371f",
   "metadata": {},
   "outputs": [],
   "source": [
    "#Anna tiedostopolku kansioon missä kaava-asiakirjat sijaitsevat\n",
    "\n",
    "kaava_asiakirjat = r'<insert filepath here>'\n",
    "\n",
    "\n",
    "#Anna tiedostopolku tiedostonimineen kunnan indeksiaineistoon\n",
    "\n",
    "#Indeksiaineiston tulee olla .gpkg tai .shp\n",
    "\n",
    "kunta_kaavaindeksi = r'<insert filepath here>'\n",
    "\n",
    "#Anna kuntanumero\n",
    "\n",
    "kunta_numero = '<insert kuntanumero here>'\n",
    "\n",
    "#Anna kaavalajin nimi\n",
    "\n",
    "kaavalaji = '<insert kaavalaji here>'\n",
    "\n",
    "#Anna sarakkeen nimi, jossa indeksitieto sijaitsee\n",
    "indeksi_sarake = '<insert column name here>'\n",
    "\n",
    "#Laita tähän sen kansion polku, johon haluat saada kaavatiedot.\n",
    "directory = r'<insert kaavalaji here>'\n",
    "\n",
    "#Suorita linkitysfunktio\n",
    "\n",
    "%run -i lib/matching_filename_to_kaavaindex_main.py"
   ]
  },
  {
   "cell_type": "markdown",
   "id": "ac22517e",
   "metadata": {},
   "source": [
    "Tuotoksena syntyy CSV-taulukko, joka vastaa PDF-linkityskonversiotaulukkoa.\n",
    "\n",
    "| Kuntanumero | Kunnan indeksitunnus | KTJ-indeksitunnus | Original filename | New filename | Match equivalency %  | Kaavalaji | Manuaalisesti tarkistettu | Dokumentin tyyppi |\n",
    "| :--- | :--- | :--- | :--- | :--- | :--- | :--- | :--- | :--- |\n",
    "| \"Kuntanumero\" | \"Kunnan kaavaindeksi\" | \"Tyhjä\" | \"Tiedoston nimi\" | \"Tyhjä\" | \"Vertailuarvo\" | \"Kaavalaji\" | \"FALSE\" | \"Dokumentin tyyppi\" |\n",
    "| 140* | 1* | - | Kaava_1.pdf | - | 90 | ak* | FALSE | 1* |\n",
    "\n",
    "*esimerkki"
   ]
  },
  {
   "cell_type": "markdown",
   "id": "1a41af51",
   "metadata": {},
   "source": [
    "### 1.4.7 Kaava-asiakirjataulun luominen PDF-linkityskonversiotauluun"
   ]
  },
  {
   "cell_type": "markdown",
   "id": "32fed981",
   "metadata": {},
   "source": [
    "<span style=\"color:red\">**Mikäli vaihetta 1.4.6 ei voitu suorittaa aineistolle, voidaan suorittaa asiakirjataulun luonti tauluun ilman tiedostonimien linkitystä paikkatietoaineistoon.**</span>"
   ]
  },
  {
   "cell_type": "markdown",
   "id": "0d9f86c0",
   "metadata": {},
   "source": [
    "Koodilla voidaan tuottaa useamman kunnan kaava-asiakirjat lajiteltuna taulukkoon.\n",
    "\n",
    "HUOM! Tämä vaatii sen, että kohdan 1.3.2 ohjetta hakemistorakenteeseen on noudatettu."
   ]
  },
  {
   "cell_type": "code",
   "execution_count": null,
   "id": "451b7e7e",
   "metadata": {},
   "outputs": [],
   "source": [
    "#Anna tiedostopolku kansioon missä kaava-asiakirjat sijaitsevat\n",
    "path_to_folder = r'<insert filepath here>'\n",
    "\n",
    "\n",
    "#Laita tähän sen kansion polku, johon haluat saada kaavatiedot.\n",
    "file_path = r'<insert filepath here>/'\n",
    "\n",
    "%run -i lib/write_csv_main.py"
   ]
  }
 ],
 "metadata": {
  "kernelspec": {
   "display_name": "Python 3 (ipykernel)",
   "language": "python",
   "name": "python3"
  },
  "language_info": {
   "codemirror_mode": {
    "name": "ipython",
    "version": 3
   },
   "file_extension": ".py",
   "mimetype": "text/x-python",
   "name": "python",
   "nbconvert_exporter": "python",
   "pygments_lexer": "ipython3",
   "version": "3.7.11"
  }
 },
 "nbformat": 4,
 "nbformat_minor": 5
}
