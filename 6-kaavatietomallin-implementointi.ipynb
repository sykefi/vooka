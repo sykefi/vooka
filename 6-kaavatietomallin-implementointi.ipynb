{
 "cells": [
  {
   "cell_type": "markdown",
   "id": "51d93cf2",
   "metadata": {},
   "source": [
    "# 6. Kaavatietomallin implementointi"
   ]
  },
  {
   "cell_type": "markdown",
   "id": "17e201fe",
   "metadata": {},
   "source": [
    "ETL-työkalussa [kaavatietomallin](https://tietomallit.ymparisto.fi/kaavatiedot/v1.1/looginenmalli/uml/doc/) implementointi tapahtuu muuntamalla GeoPandas GeoDataFrame -muotoinen kaava-aineisto GeoJSON-formaattiin."
   ]
  },
  {
   "cell_type": "code",
   "execution_count": null,
   "id": "834024f9",
   "metadata": {},
   "outputs": [],
   "source": [
    "# Käytettävien Python moduulien ja kehitettyjen funktioiden sisäänluku\n",
    "import geopandas as gpd\n",
    "from lib.pandas_to_geojson import dataToGeoJSON"
   ]
  },
  {
   "cell_type": "code",
   "execution_count": null,
   "id": "51f5ea31",
   "metadata": {},
   "outputs": [],
   "source": [
    "# Kaava-aineisto\n",
    "data = gpd.read_file(r\"<insert filepath here>.gpkg\", layer=\"<insert layer name here>\")\n",
    "\n",
    "# Aineiston muuntaminen kaavatietomalliin ja JSON-dumpiksi\n",
    "data_json = dataToGeoJSON(kaavadata=data, kaavatunnus_col=\"<insert column name here>\")\n",
    "\n",
    "# GeoJSON tallennus\n",
    "with open(r\"<insert filepath here>\", \"w\") as outfile:\n",
    "    outfile.write(data_json)"
   ]
  }
 ],
 "metadata": {
  "kernelspec": {
   "display_name": "Python 3 (ipykernel)",
   "language": "python",
   "name": "python3"
  },
  "language_info": {
   "codemirror_mode": {
    "name": "ipython",
    "version": 3
   },
   "file_extension": ".py",
   "mimetype": "text/x-python",
   "name": "python",
   "nbconvert_exporter": "python",
   "pygments_lexer": "ipython3",
   "version": "3.7.11"
  }
 },
 "nbformat": 4,
 "nbformat_minor": 5
}
