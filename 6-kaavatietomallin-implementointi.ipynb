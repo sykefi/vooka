{
 "cells": [
  {
   "cell_type": "markdown",
   "id": "51d93cf2",
   "metadata": {},
   "source": [
    "# 6. Kaavatietomallin implementointi"
   ]
  },
  {
   "cell_type": "markdown",
   "id": "a8bd1f3d",
   "metadata": {},
   "source": [
    "## 6.1. Geopackagesta JSON-tiedostoiksi"
   ]
  },
  {
   "cell_type": "markdown",
   "id": "17e201fe",
   "metadata": {},
   "source": [
    "ETL-työkalussa [kaavatietomallin](https://tietomallit.ymparisto.fi/kaavatiedot/v1.1/looginenmalli/uml/doc/) implementointi tapahtuu muuntamalla GeoPandas GeoDataFrame -muotoinen kaava-aineisto JSON-formaattiin kunnittain. ETL-muuntimelle ilmoitetaan aineistolähteeksi joko “kunta” tai “KTJ” sekä molempien aineistolähteiden kaavatunnukset. Osana tietojen vertailua ETL-muuntimen osassa 4.3 on luotu tietokenttä “refe_kaavatunnus”, joka kertoo esim. KTJ-pohjaisessa aineistossa kaavan vastaavan kuntatunnuksen. Mikäli vastaavaa tunnusta ei löydy (esim. kaavakohde on vain KTJ:n aineistossa), ETL-muunnin jättää kunnan indeksitunnus-tiedon JSON:ssa tyhjäksi."
   ]
  },
  {
   "cell_type": "code",
   "execution_count": null,
   "id": "834024f9",
   "metadata": {},
   "outputs": [],
   "source": [
    "# Käytettävien Python moduulien ja kehitettyjen funktioiden sisäänluku\n",
    "import geopandas as gpd\n",
    "import json\n",
    "from lib.implement_kaavatietomalli import dataToJSON"
   ]
  },
  {
   "cell_type": "code",
   "execution_count": null,
   "id": "51f5ea31",
   "metadata": {},
   "outputs": [],
   "source": [
    "# Kaava-aineisto\n",
    "data = gpd.read_file(r\"<insert filepath here>.gpkg\", layer=\"<insert layer name here>\")\n",
    "kunta = data.loc[data['kuntakoodi'] == '<insert kuntakoodi here>']\n",
    "\n",
    "\"\"\"\n",
    "# Tee tässä tarvittaessa aineiston täydentäminen esim. kunnan kaavaindekseillä, joita ei ole KTJ-aineistossa mukana\n",
    "\n",
    "additional_data = gpd.read_file(r\"<insert filepath here>.gpkg\", layer=\"<insert layer name here>\")\n",
    "additional_kunta = additional_data.loc[additional_data['kuntakoodi'] == '<insert kuntakoodi here>']\n",
    "\n",
    "add_list = ['<insert tunnus here>', '<insert tunnus here>'] # listaa ne kaavatunnukset, jotka haluat loppuaineistoon mukaan!\n",
    "add_ons = additional_kunta.loc[additional_kunta['<insert kaavatunnus column here>'].isin(add_list)] #vaihda kenttänimi tarvittaessa!\n",
    "kunta = kunta.append(add_ons, ignore_index = True)\n",
    "\"\"\"\n",
    "\n",
    "# Jos haluat tuottaa loppuaineiston kaavatasolla kaavaindeksitason sijasta\n",
    "# HUOM! Tämä sotkee kohderekisteriyksiköt, joten hae ne tarvittaessa dissolven jälkeen uudestaan (katso 2.3.1 ja 2.3.2)\n",
    "kunta_dissolve = kunta.dissolve(by='<insert kaavatunnus column here>', as_index=False) \n",
    "\n",
    "# Aineiston muuntaminen kaavatietomalliin ja JSON-dumpiksi\n",
    "data_json = dataToJSON(kaavadata=kunta,\n",
    "                          aineistolahde='<insert aineistolahde here>', # joko \"kunta\" tai \"KTJ\"\n",
    "                          ktj_kaavatunnus='kaavatunnus_1', # vaihda, jos olet tenhyt vertailun kuntapohjaisesti!\n",
    "                          kunta_kaavatunnus='refe_kaavatunnus') # vaihda, jos olet tenhyt vertailun kuntapohjaisesti!\n",
    "\n",
    "# JSON tallennus\n",
    "with open(r'<insert  filepath here>.json', 'w', encoding='utf8') as outfile:\n",
    "    result = json.dumps(data_json, indent=4, ensure_ascii=False)\n",
    "    outfile.write(result)"
   ]
  },
  {
   "cell_type": "markdown",
   "id": "705939c8",
   "metadata": {},
   "source": [
    "## 6.2. Extra: JSON-tiedostojen normalisointi geopackageiksi"
   ]
  },
  {
   "cell_type": "markdown",
   "id": "468335b4",
   "metadata": {},
   "source": [
    "<span style=\"color:red\">**Tämä vaihe ei ole pakollinen!**</span>\n",
    "\n",
    "Kaavatietomallin mukainen JSON-aineisto voi olla kunnille hankalaa luettavaa sellaisenaan. Tarvittaessa JSON-muotoisen aineiston voi normalisoida kaavatietomallimuodossa takaisin geopackageksi."
   ]
  },
  {
   "cell_type": "code",
   "execution_count": null,
   "id": "c0e71dac",
   "metadata": {},
   "outputs": [],
   "source": [
    "# Kehitettyjen funktioiden sisäänluku\n",
    "from lib.implement_kaavatietomalli import jsonToGPKG"
   ]
  },
  {
   "cell_type": "code",
   "execution_count": null,
   "id": "8149bbba",
   "metadata": {},
   "outputs": [],
   "source": [
    "# Normalisoi JSON geopackageksi\n",
    "normalized_data = jsonToGPKG(inputfp=r\"<insert filepath here>.json\",\n",
    "                             outputfp=r\"<insert filepath here>.gpkg\")"
   ]
  }
 ],
 "metadata": {
  "kernelspec": {
   "display_name": "Python 3 (ipykernel)",
   "language": "python",
   "name": "python3"
  },
  "language_info": {
   "codemirror_mode": {
    "name": "ipython",
    "version": 3
   },
   "file_extension": ".py",
   "mimetype": "text/x-python",
   "name": "python",
   "nbconvert_exporter": "python",
   "pygments_lexer": "ipython3",
   "version": "3.7.11"
  }
 },
 "nbformat": 4,
 "nbformat_minor": 5
}
